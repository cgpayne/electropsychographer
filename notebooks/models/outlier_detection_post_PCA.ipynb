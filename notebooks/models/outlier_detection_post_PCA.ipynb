{
 "cells": [
  {
   "cell_type": "code",
   "execution_count": 1,
   "id": "3ee1c607",
   "metadata": {},
   "outputs": [
    {
     "name": "stdout",
     "output_type": "stream",
     "text": [
      "[[ 1.00000000e+00  1.00000000e+00 -4.89054600e+04 ...  2.81355629e+00\n",
      "   4.60985308e+00  3.76602000e+01]\n",
      " [ 1.00000000e+00  1.00000000e+00  3.42777040e+03 ...  2.12048045e+00\n",
      "   2.80013214e+00  4.16759857e+01]\n",
      " [ 1.00000000e+00  1.00000000e+00  8.30409250e+03 ...  1.81371528e+00\n",
      "   2.33540720e+00  4.95990429e+01]\n",
      " ...\n",
      " [ 1.00000000e+00  1.00000000e+00 -2.35803294e+04 ...  3.17787901e+00\n",
      "   4.19894808e+00  2.37877286e+01]\n",
      " [ 1.00000000e+00  1.00000000e+00  7.49237370e+03 ...  2.27740411e+00\n",
      "   2.87395432e+00  1.10528143e+01]\n",
      " [ 1.00000000e+00  1.00000000e+00 -6.51696800e+02 ...  3.18281285e+00\n",
      "   4.06001535e+00  5.11188429e+01]]\n"
     ]
    }
   ],
   "source": [
    "import pandas as pd\n",
    "import numpy as np\n",
    "\n",
    "data_handle = 'cond1_pat1to81'\n",
    "\n",
    "inter_dir = '../../data/intermediates'\n",
    "fname_in = 'feature_gen_post_' + data_handle + '.csv'\n",
    "\n",
    "X = pd.read_csv(inter_dir + '/' + fname_in, index_col='subject')\n",
    "X = X.values\n",
    "\n",
    "print(X)"
   ]
  },
  {
   "cell_type": "code",
   "execution_count": 5,
   "id": "37737c0f",
   "metadata": {},
   "outputs": [],
   "source": [
    "import matplotlib.pyplot as plt\n",
    "from sklearn.preprocessing import StandardScaler\n",
    "from sklearn.decomposition import PCA\n",
    "\n",
    "class fullPCA():\n",
    "    def __init__(self, X):\n",
    "        self.X = X\n",
    "    \n",
    "    def scale_X(self):\n",
    "        sc = StandardScaler()\n",
    "        self.X = sc.fit_transform(self.X)\n",
    "    \n",
    "    def exec_PCA(self):\n",
    "        pca = PCA()\n",
    "        self.X = pca.fit_transform(self.X)\n",
    "    \n",
    "    def plot_PC(self):\n",
    "        plt.figure()\n",
    "        plt.scatter(X[:, 0], X[:, 1])"
   ]
  },
  {
   "cell_type": "code",
   "execution_count": 6,
   "id": "3ab1decd",
   "metadata": {},
   "outputs": [
    {
     "name": "stdout",
     "output_type": "stream",
     "text": [
      "[[ 5.51683002e-01 -6.48877843e-01  1.95498360e+00 ...  4.69210071e-02\n",
      "  -1.80418616e+00  1.00771458e-17]\n",
      " [-1.31566926e+00 -1.59676668e-01  2.70882924e-01 ... -1.44718107e+00\n",
      "   1.88786021e-01  1.00771458e-17]\n",
      " [ 2.75067651e-02 -1.16034442e+00  1.28608562e+00 ... -1.72432242e+00\n",
      "   4.64215813e-01  1.00771458e-17]\n",
      " ...\n",
      " [-4.52001926e-01  1.92623780e-01 -7.74441479e-01 ... -3.08194911e-01\n",
      "   1.31643982e+00  1.00771458e-17]\n",
      " [-3.55855162e-01  8.33695733e-01 -1.40153136e+00 ...  8.66625566e-02\n",
      "  -1.73271225e+00  1.00771458e-17]\n",
      " [-3.80352935e-01 -3.88832081e-01 -1.94580688e+00 ... -1.45558676e+00\n",
      "   5.20967829e-01  1.00771458e-17]]\n"
     ]
    }
   ],
   "source": [
    "fpca = fullPCA(X)\n",
    "fpca.scale_X()\n",
    "fpca.exec_PCA()\n",
    "X = fpca.X\n",
    "\n",
    "print(X)"
   ]
  },
  {
   "cell_type": "code",
   "execution_count": 7,
   "id": "01444e7d",
   "metadata": {},
   "outputs": [
    {
     "data": {
      "image/png": "[encoded data removed]",
      "text/plain": [
       "<Figure size 640x480 with 1 Axes>"
      ]
     },
     "metadata": {},
     "output_type": "display_data"
    }
   ],
   "source": [
    "fpca.plot_PC()"
   ]
  },
  {
   "cell_type": "code",
   "execution_count": 8,
   "id": "e5508adc",
   "metadata": {},
   "outputs": [],
   "source": [
    "# calculate the projection matrix of the design matrix (X)\n",
    "H = X@np.linalg.pinv(X.T@X)@X.T"
   ]
  },
  {
   "cell_type": "code",
   "execution_count": 9,
   "id": "77eca6d7",
   "metadata": {},
   "outputs": [],
   "source": [
    "def find_high_leverage_points(X, H, lev_frac):\n",
    "    for ii in range(len(H)):\n",
    "        leverage = H[ii, ii]\n",
    "        if leverage > lev_frac*X.shape[1]/X.shape[0]:\n",
    "            print(f\"subject {ii+1} has high leverage!\")"
   ]
  },
  {
   "cell_type": "code",
   "execution_count": 10,
   "id": "40612763",
   "metadata": {},
   "outputs": [],
   "source": [
    "find_high_leverage_points(X, H, 2)"
   ]
  },
  {
   "cell_type": "code",
   "execution_count": null,
   "id": "3082ae9c",
   "metadata": {},
   "outputs": [],
   "source": [
    "# F- I-- N---"
   ]
  }
 ],
 "metadata": {
  "kernelspec": {
   "display_name": "Python 3 (ipykernel)",
   "language": "python",
   "name": "python3"
  },
  "language_info": {
   "codemirror_mode": {
    "name": "ipython",
    "version": 3
   },
   "file_extension": ".py",
   "mimetype": "text/x-python",
   "name": "python",
   "nbconvert_exporter": "python",
   "pygments_lexer": "ipython3",
   "version": "3.9.15"
  }
 },
 "nbformat": 4,
 "nbformat_minor": 5
}
